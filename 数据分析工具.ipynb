{
 "cells": [
  {
   "cell_type": "code",
   "execution_count": 2,
   "metadata": {},
   "outputs": [
    {
     "name": "stdout",
     "output_type": "stream",
     "text": [
      "0    1\n",
      "1    2\n",
      "2    3\n",
      "3    4\n",
      "dtype: int64\n",
      "0    苹果\n",
      "1    橘子\n",
      "2    葡萄\n",
      "3    葡萄\n",
      "dtype: object\n"
     ]
    }
   ],
   "source": [
    "import pandas as pd#pandas两种数据结构Series和dataframe,pandas有数据的索引\n",
    "from pandas import Series\n",
    "list1=[1,2,3,4]\n",
    "list2=['苹果','橘子','葡萄','葡萄']\n",
    "s1=Series(list1)\n",
    "s2=Series(list2)\n",
    "print(s1)\n",
    "print(s2)"
   ]
  },
  {
   "cell_type": "code",
   "execution_count": 4,
   "metadata": {},
   "outputs": [
    {
     "name": "stdout",
     "output_type": "stream",
     "text": [
      "0    1\n",
      "1    2\n",
      "2    3\n",
      "3    4\n",
      "dtype: int64\n"
     ]
    }
   ],
   "source": [
    "import numpy as np\n",
    "list1=[1,2,3,4]\n",
    "n1=pd.Series(list1)#pandas一维Series数据\n",
    "print(n1)"
   ]
  },
  {
   "cell_type": "code",
   "execution_count": 6,
   "metadata": {},
   "outputs": [
    {
     "name": "stdout",
     "output_type": "stream",
     "text": [
      "[1 2 3 4]\n"
     ]
    }
   ],
   "source": [
    "import numpy as np#无索引\n",
    "list1=[1,2,3,4]\n",
    "n1=np.array(list1)\n",
    "print(n1)"
   ]
  },
  {
   "cell_type": "code",
   "execution_count": 7,
   "metadata": {},
   "outputs": [
    {
     "name": "stdout",
     "output_type": "stream",
     "text": [
      "   0  1  2\n",
      "0  1  2  3\n",
      "1  4  5  6\n"
     ]
    }
   ],
   "source": [
    "import pandas as pd#pandas两种数据结构Series和dataframe,pandas有数据的索引,dataframe是二维\n",
    "from pandas import Series\n",
    "list1=[[1,2,3],[4,5,6]]\n",
    "df1=pd.DataFrame(list1)\n",
    "print(df1)"
   ]
  },
  {
   "cell_type": "code",
   "execution_count": 23,
   "metadata": {},
   "outputs": [
    {
     "name": "stdout",
     "output_type": "stream",
     "text": [
      "    数学  语文  英语\n",
      "张三  43  66  77\n",
      "李四  33  44  55\n",
      "77\n",
      "    数学  语文  英语\n",
      "张三  43  66  77\n",
      "    数学  语文  英语\n",
      "张三  43  66  77\n",
      "李四  33  44  55\n",
      "    数学  英语\n",
      "张三  43  77\n",
      "李四  33  55\n"
     ]
    }
   ],
   "source": [
    "import pandas as pd#pandas两种数据结构Series和dataframe,pandas有数据的索引,指定索引\n",
    "from pandas import Series\n",
    "list1=[[43,66,77],[33,44,55]]\n",
    "s1=pd.DataFrame(list1,index=['张三','李四'],columns=['数学','语文','英语'])\n",
    "print(s1)\n",
    "print(s1['英语']['张三'])\n",
    "df2=s1.drop('李四')#原数据不变化即s1不变化删除一行\n",
    "print(df2)\n",
    "print(s1)\n",
    "df3=s1.drop(\"语文\",axis=1)#1表示按列删除一列\n",
    "print(df3)"
   ]
  },
  {
   "cell_type": "code",
   "execution_count": null,
   "metadata": {},
   "outputs": [],
   "source": [
    "import pandas as pd\n",
    "data=pd.read_csv('d:/tips.csv')\n",
    "print(data)\n",
    "print(data.shape())\n",
    "print(data.describe())#描述\n",
    "data.plot(kind='scatter',x='total_bill',y='tip')"
   ]
  }
 ],
 "metadata": {
  "kernelspec": {
   "display_name": "Python 3",
   "language": "python",
   "name": "python3"
  },
  "language_info": {
   "codemirror_mode": {
    "name": "ipython",
    "version": 3
   },
   "file_extension": ".py",
   "mimetype": "text/x-python",
   "name": "python",
   "nbconvert_exporter": "python",
   "pygments_lexer": "ipython3",
   "version": "3.8.5"
  }
 },
 "nbformat": 4,
 "nbformat_minor": 4
}
