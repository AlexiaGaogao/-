{
 "cells": [
  {
   "cell_type": "code",
   "execution_count": 4,
   "metadata": {},
   "outputs": [],
   "source": [
    "from sklearn.datasets import load_iris\n",
    "import numpy as np\n",
    "from sklearn.linear_model import LogisticRegression\n"
   ]
  },
  {
   "cell_type": "code",
   "execution_count": 17,
   "metadata": {},
   "outputs": [
    {
     "name": "stdout",
     "output_type": "stream",
     "text": [
      "(150, 4)\n"
     ]
    }
   ],
   "source": [
    "#导入数据集iris\n",
    "iris = load_iris() #载入数据集\n",
    "#print(iris.data)\n",
    "print(iris.data.shape)\n",
    "X = iris.data #获取花卉数据集\n",
    "Y = iris.target\n",
    "#Y"
   ]
  },
  {
   "cell_type": "code",
   "execution_count": 19,
   "metadata": {},
   "outputs": [
    {
     "name": "stdout",
     "output_type": "stream",
     "text": [
      "[0 2]\n"
     ]
    }
   ],
   "source": [
    "#逻辑回归模型\n",
    "Ir = LogisticRegression(C=1e5)\n",
    "Ir.fit(X,Y)\n",
    "X1=[[5.1,3.5,1.4,0.2],[5.9,3.,5.1,1.8]]\n",
    "Z = Ir.predict(X1)\n",
    "print(Z)"
   ]
  },
  {
   "cell_type": "code",
   "execution_count": 27,
   "metadata": {},
   "outputs": [
    {
     "name": "stdout",
     "output_type": "stream",
     "text": [
      "[2 3 3 2 0 0 1 1]\n",
      "[0]\n"
     ]
    }
   ],
   "source": [
    "#聚类\n",
    "from sklearn.cluster import KMeans\n",
    "X= [[23, 98],[98, 95],[96, 96],[21, 97],[21, 24],[34, 38],[99, 34],[95, 23]]\n",
    "clf = KMeans(n_clusters=4)\n",
    "clf.fit(X)\n",
    "p=clf.predict(X)\n",
    "print(p)\n",
    "p1=clf.predict([[22,22]])\n",
    "print(p1)\n",
    "#conda list"
   ]
  },
  {
   "cell_type": "code",
   "execution_count": 28,
   "metadata": {},
   "outputs": [],
   "source": [
    "#json和excel数据读写\n",
    "import pandas as pd\n",
    "#df1=pd.read_excel('F:/ .xlsx',sheetname='Sheet1')\n",
    "#df1=df1.to_excel('',sheet_name='out',index=None)\n"
   ]
  },
  {
   "cell_type": "code",
   "execution_count": 29,
   "metadata": {
    "scrolled": true
   },
   "outputs": [
    {
     "name": "stdout",
     "output_type": "stream",
     "text": [
      "[           监测站  AQI 空气质量等级      PM2.5       PM10  首要污染物\n",
      "0        天津地纬路  237   重度污染  187 μg/m3  272 μg/m3  PM2.5\n",
      "1        天津淮河道  225   重度污染  175 μg/m3  280 μg/m3  PM2.5\n",
      "2        天津勤俭道  223   重度污染  173 μg/m3  258 μg/m3  PM2.5\n",
      "3        天津津沽路  221   重度污染  171 μg/m3  255 μg/m3  PM2.5\n",
      "4        天津大理道  220   重度污染  170 μg/m3  261 μg/m3  PM2.5\n",
      "5      天津河西一经路  220   重度污染  170 μg/m3  232 μg/m3  PM2.5\n",
      "6       天津滨水东路  218   重度污染  168 μg/m3  244 μg/m3  PM2.5\n",
      "7     天津大直沽八号路  218   重度污染  168 μg/m3  253 μg/m3  PM2.5\n",
      "8        天津辛老路  211   重度污染  161 μg/m3  246 μg/m3  PM2.5\n",
      "9       天津第四大街  204   重度污染  154 μg/m3  237 μg/m3  PM2.5\n",
      "10       天津建设路  197   中度污染  148 μg/m3  213 μg/m3  PM2.5\n",
      "11       天津汉北路  194   中度污染  146 μg/m3  228 μg/m3  PM2.5\n",
      "12      天津中山北路  184   中度污染  139 μg/m3  260 μg/m3  PM2.5\n",
      "13      天津宾水西道  178   中度污染  135 μg/m3  217 μg/m3  PM2.5\n",
      "14      天津雍阳西道  177   中度污染  134 μg/m3  214 μg/m3  PM2.5\n",
      "15       天津前进道  174   中度污染  132 μg/m3  246 μg/m3  PM2.5\n",
      "16       天津西四道  174   中度污染  132 μg/m3  227 μg/m3  PM2.5\n",
      "17       天津永明路  174   中度污染  132 μg/m3  196 μg/m3  PM2.5\n",
      "18       天津北环路  170   中度污染  129 μg/m3  196 μg/m3  PM2.5\n",
      "19       天津跃进路  170   中度污染  129 μg/m3  251 μg/m3  PM2.5\n",
      "20  天津团泊洼(对照点)  159   中度污染  121 μg/m3  236 μg/m3  PM2.5]\n"
     ]
    }
   ],
   "source": [
    "#读取web数据\n",
    "import pandas as pd\n",
    "import numpy as np\n",
    "html=pd.read_html('http://www.air-level.com/air/tianjin/')\n",
    "print(html)"
   ]
  },
  {
   "cell_type": "code",
   "execution_count": null,
   "metadata": {},
   "outputs": [],
   "source": []
  }
 ],
 "metadata": {
  "kernelspec": {
   "display_name": "Python 3",
   "language": "python",
   "name": "python3"
  },
  "language_info": {
   "codemirror_mode": {
    "name": "ipython",
    "version": 3
   },
   "file_extension": ".py",
   "mimetype": "text/x-python",
   "name": "python",
   "nbconvert_exporter": "python",
   "pygments_lexer": "ipython3",
   "version": "3.8.5"
  }
 },
 "nbformat": 4,
 "nbformat_minor": 4
}
