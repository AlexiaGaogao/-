{
 "cells": [
  {
   "cell_type": "code",
   "execution_count": 2,
   "metadata": {},
   "outputs": [
    {
     "data": {
      "text/html": [
       "<div>\n",
       "<style scoped>\n",
       "    .dataframe tbody tr th:only-of-type {\n",
       "        vertical-align: middle;\n",
       "    }\n",
       "\n",
       "    .dataframe tbody tr th {\n",
       "        vertical-align: top;\n",
       "    }\n",
       "\n",
       "    .dataframe thead th {\n",
       "        text-align: right;\n",
       "    }\n",
       "</style>\n",
       "<table border=\"1\" class=\"dataframe\">\n",
       "  <thead>\n",
       "    <tr style=\"text-align: right;\">\n",
       "      <th></th>\n",
       "      <th>Region</th>\n",
       "      <th>Cost</th>\n",
       "      <th>GDP</th>\n",
       "    </tr>\n",
       "  </thead>\n",
       "  <tbody>\n",
       "    <tr>\n",
       "      <th>0</th>\n",
       "      <td>east</td>\n",
       "      <td>2</td>\n",
       "      <td>28014.94</td>\n",
       "    </tr>\n",
       "    <tr>\n",
       "      <th>1</th>\n",
       "      <td>east</td>\n",
       "      <td>3</td>\n",
       "      <td>18549.19</td>\n",
       "    </tr>\n",
       "    <tr>\n",
       "      <th>2</th>\n",
       "      <td>east</td>\n",
       "      <td>2</td>\n",
       "      <td>34016.32</td>\n",
       "    </tr>\n",
       "    <tr>\n",
       "      <th>3</th>\n",
       "      <td>east</td>\n",
       "      <td>2</td>\n",
       "      <td>23409.24</td>\n",
       "    </tr>\n",
       "    <tr>\n",
       "      <th>4</th>\n",
       "      <td>east</td>\n",
       "      <td>2</td>\n",
       "      <td>30632.99</td>\n",
       "    </tr>\n",
       "  </tbody>\n",
       "</table>\n",
       "</div>"
      ],
      "text/plain": [
       "  Region  Cost       GDP\n",
       "0   east     2  28014.94\n",
       "1   east     3  18549.19\n",
       "2   east     2  34016.32\n",
       "3   east     2  23409.24\n",
       "4   east     2  30632.99"
      ]
     },
     "execution_count": 2,
     "metadata": {},
     "output_type": "execute_result"
    }
   ],
   "source": [
    "import pandas as pd\n",
    "import numpy as np\n",
    "import scipy.stats as st \n",
    "df= pd.read_csv('F:\\\\数据\\\\gdptest6.csv', encoding='utf-8')\n",
    "df.head(5)"
   ]
  },
  {
   "cell_type": "code",
   "execution_count": 2,
   "metadata": {},
   "outputs": [
    {
     "data": {
      "text/plain": [
       "0       east\n",
       "1       east\n",
       "2       east\n",
       "3       east\n",
       "4       east\n",
       "5       east\n",
       "6       east\n",
       "7       east\n",
       "8       east\n",
       "9       east\n",
       "10      east\n",
       "11    middle\n",
       "12    middle\n",
       "13    middle\n",
       "14    middle\n",
       "15    middle\n",
       "16    middle\n",
       "17    middle\n",
       "18      west\n",
       "19      west\n",
       "20      west\n",
       "21      west\n",
       "22      west\n",
       "23      west\n",
       "24      west\n",
       "25      west\n",
       "26      west\n",
       "27      west\n",
       "28      west\n",
       "29      west\n",
       "30      west\n",
       "Name: Region, dtype: object"
      ]
     },
     "execution_count": 2,
     "metadata": {},
     "output_type": "execute_result"
    }
   ],
   "source": [
    "df['Region']"
   ]
  },
  {
   "cell_type": "code",
   "execution_count": 3,
   "metadata": {},
   "outputs": [],
   "source": [
    "Region=df['Region']\n",
    "Cost=df['Cost']\n",
    "GDP=df['GDP']\n",
    "#计算组别个数r、s和整体平均数\n",
    "list_fac1=Region.unique()\n",
    "list_fac2=Cost.unique()\n",
    "r=len(list_fac1)\n",
    "s=len(list_fac2)\n",
    "x_bar=GDP.mean()\n",
    "list_fac1\n",
    "#计算组间平方和Qa和组内平方和Qb\n",
    "list_Qa=[]\n",
    "list_Qb=[]\n",
    "for i in list_fac1:\n",
    "    series_i=df[Region==i]['GDP']\n",
    "    xi_bar=series_i.mean()\n",
    "    list_Qa.append((xi_bar-x_bar)**2)\n",
    "for j in list_fac2:\n",
    "    series_j=df[Cost==j]['GDP']\n",
    "    xj_bar=series_j.mean()\n",
    "    list_Qb.append((xj_bar-x_bar)**2)\n",
    "Qa=sum(list_Qa)\n",
    "Qb=sum(list_Qb)\n",
    "#计算总平方和\n",
    "Q=((df['GDP']-x_bar)**2).sum()\n",
    "#计算误差平方和\n",
    "list_Qw=[]\n",
    "for i in list_fac1:\n",
    "    for j in list_fac2:\n",
    "        series_ij=df[(Region==i) & (Cost==j)]['GDP']\n",
    "        list_Qw.append(((series_ij-series_ij.mean())**2).sum())#\n",
    "Qw=sum(list_Qw)\n",
    "#计算交互项平方和\n",
    "Qab=Q-Qa-Qb-Qw"
   ]
  },
  {
   "cell_type": "code",
   "execution_count": 4,
   "metadata": {},
   "outputs": [
    {
     "data": {
      "text/plain": [
       "[6, 1, 3, 1, 4, 2, 0, 1, 1, 7, 0, 5]"
      ]
     },
     "execution_count": 4,
     "metadata": {},
     "output_type": "execute_result"
    }
   ],
   "source": [
    "#误差项自由度\n",
    "list_n=[]\n",
    "for i in list_fac1:\n",
    "    for j in list_fac2:\n",
    "        n_ij=len(df[(Region==i) & (Cost==j)]['GDP'])\n",
    "        list_n.append(n_ij)\n",
    "n=sum(list_n)-r*s  \n",
    "list_n"
   ]
  },
  {
   "cell_type": "code",
   "execution_count": 5,
   "metadata": {},
   "outputs": [],
   "source": [
    "#计算均方\n",
    "Sa=Qa/(r-1)\n",
    "Sb=Qb/(s-1)\n",
    "Sab=Qab/((r-1)*(s-1))\n",
    "Sw=Qw/n\n",
    "#计算F值\n",
    "Fa=Sa/Sw\n",
    "Fb=Sb/Sw\n",
    "Fab=Sab/Sw\n",
    "#计算显著性\n",
    "sig1=st.f.sf(Fa,r-1,n)\n",
    "sig2=st.f.sf(Fb,s-1,n)\n",
    "sig3=st.f.sf(Fab,(r-1)*(s-1),n)"
   ]
  },
  {
   "cell_type": "code",
   "execution_count": 6,
   "metadata": {},
   "outputs": [
    {
     "data": {
      "text/html": [
       "<div>\n",
       "<style scoped>\n",
       "    .dataframe tbody tr th:only-of-type {\n",
       "        vertical-align: middle;\n",
       "    }\n",
       "\n",
       "    .dataframe tbody tr th {\n",
       "        vertical-align: top;\n",
       "    }\n",
       "\n",
       "    .dataframe thead th {\n",
       "        text-align: right;\n",
       "    }\n",
       "</style>\n",
       "<table border=\"1\" class=\"dataframe\">\n",
       "  <thead>\n",
       "    <tr style=\"text-align: right;\">\n",
       "      <th></th>\n",
       "      <th>Factor</th>\n",
       "      <th>SS</th>\n",
       "      <th>DOF</th>\n",
       "      <th>MS</th>\n",
       "      <th>F</th>\n",
       "      <th>sig</th>\n",
       "    </tr>\n",
       "  </thead>\n",
       "  <tbody>\n",
       "    <tr>\n",
       "      <th>0</th>\n",
       "      <td>Region</td>\n",
       "      <td>4.140211e+08</td>\n",
       "      <td>2</td>\n",
       "      <td>2.07011e+08</td>\n",
       "      <td>4.32375</td>\n",
       "      <td>0.0283419</td>\n",
       "    </tr>\n",
       "    <tr>\n",
       "      <th>1</th>\n",
       "      <td>Cost</td>\n",
       "      <td>3.650543e+09</td>\n",
       "      <td>3</td>\n",
       "      <td>1.21685e+09</td>\n",
       "      <td>25.4158</td>\n",
       "      <td>7.30613e-07</td>\n",
       "    </tr>\n",
       "    <tr>\n",
       "      <th>2</th>\n",
       "      <td>Cost*Region</td>\n",
       "      <td>9.793527e+09</td>\n",
       "      <td>6</td>\n",
       "      <td>1.63225e+09</td>\n",
       "      <td>34.0923</td>\n",
       "      <td>3.4707e-09</td>\n",
       "    </tr>\n",
       "    <tr>\n",
       "      <th>3</th>\n",
       "      <td>Error</td>\n",
       "      <td>9.096733e+08</td>\n",
       "      <td>19</td>\n",
       "      <td>4.78775e+07</td>\n",
       "      <td>-</td>\n",
       "      <td>-</td>\n",
       "    </tr>\n",
       "    <tr>\n",
       "      <th>4</th>\n",
       "      <td>Total</td>\n",
       "      <td>1.476776e+10</td>\n",
       "      <td>30</td>\n",
       "      <td>-</td>\n",
       "      <td>-</td>\n",
       "      <td>-</td>\n",
       "    </tr>\n",
       "  </tbody>\n",
       "</table>\n",
       "</div>"
      ],
      "text/plain": [
       "        Factor            SS  DOF           MS        F          sig\n",
       "0       Region  4.140211e+08    2  2.07011e+08  4.32375    0.0283419\n",
       "1         Cost  3.650543e+09    3  1.21685e+09  25.4158  7.30613e-07\n",
       "2  Cost*Region  9.793527e+09    6  1.63225e+09  34.0923   3.4707e-09\n",
       "3        Error  9.096733e+08   19  4.78775e+07        -            -\n",
       "4        Total  1.476776e+10   30            -        -            -"
      ]
     },
     "execution_count": 6,
     "metadata": {},
     "output_type": "execute_result"
    }
   ],
   "source": [
    "#整理数据\n",
    "df_res=pd.DataFrame(columns=['Factor','SS','DOF','MS','F','sig'])\n",
    "df_res['Factor']=['Region','Cost','Cost'+'*'+'Region','Error','Total']\n",
    "df_res['SS']=[Qa,Qb,Qab,Qw,Q]\n",
    "df_res['DOF']=[r-1,s-1,(r-1)*(s-1),n,len(GDP)-1]\n",
    "df_res['MS']=[Sa,Sb,Sab,Sw,'-']\n",
    "df_res['F']=[Fa,Fb,Fab,'-','-']\n",
    "df_res['sig']=[sig1,sig2,sig3,'-','-']\n",
    "df_res"
   ]
  },
  {
   "cell_type": "code",
   "execution_count": 15,
   "metadata": {},
   "outputs": [],
   "source": [
    "df_res.to_csv('F:\\\\数据\\\\gdpres2.csv',sep=',',index=False,header=True)"
   ]
  },
  {
   "cell_type": "code",
   "execution_count": null,
   "metadata": {},
   "outputs": [],
   "source": []
  }
 ],
 "metadata": {
  "kernelspec": {
   "display_name": "Python 3",
   "language": "python",
   "name": "python3"
  },
  "language_info": {
   "codemirror_mode": {
    "name": "ipython",
    "version": 3
   },
   "file_extension": ".py",
   "mimetype": "text/x-python",
   "name": "python",
   "nbconvert_exporter": "python",
   "pygments_lexer": "ipython3",
   "version": "3.8.5"
  }
 },
 "nbformat": 4,
 "nbformat_minor": 4
}
